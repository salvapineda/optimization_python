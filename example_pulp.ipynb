{
  "cells": [
    {
      "cell_type": "markdown",
      "metadata": {
        "id": "21rXZnamoWlz"
      },
      "source": [
        "# Optimization example\n",
        "\n",
        "We want to maximize the energy production benefits of running 2 generators. The benefit of producing with generator 1 and 2 are 3&euro;/MWh and 5&euro;/MWh, respectively. The maximum capacity of generator 1 and 2 are 4MW and 6MW, respectively. Both generators share the same water cooling system. Generator 1 needs 3 units of water per MW, while generator 2 needs 2 units of water per MW. The maximum units of water available is 18.\n",
        "\n",
        "This optimization model is formulated as follows:\n",
        "\n",
        "$$\n",
        "\\begin{align}\n",
        "\\underset{x_1,x_2}{\\max} \\quad & 3x_1+5x_2 \\\\\n",
        "\\text{s.t.} \\quad & 0 \\leq x_1 \\leq 4\\\\\n",
        "& 0 \\leq x_2 \\leq 6\\\\\n",
        "& 3x_1 + 2x_2 \\leq 18\n",
        "\\end{align}\n",
        "$$\n"
      ]
    },
    {
      "cell_type": "markdown",
      "metadata": {
        "id": "pulp-solution"
      },
      "source": [
        "## PULP ([link](https://coin-or.github.io/pulp/))\n",
        "\n",
        "PuLP is a user-friendly library for linear programming. It is easy to learn and integrates well with other Python libraries."
      ]
    },
    {
      "cell_type": "code",
      "execution_count": 2,
      "metadata": {
        "id": "pulp-code"
      },
      "outputs": [
        {
          "name": "stdout",
          "output_type": "stream",
          "text": [
            "Note: you may need to restart the kernel to use updated packages.\n",
            "Welcome to the CBC MILP Solver \n",
            "Version: 2.10.3 \n",
            "Build Date: Dec 15 2019 \n",
            "\n",
            "command line - /home/codespace/.python/current/lib/python3.12/site-packages/pulp/solverdir/cbc/linux/64/cbc /tmp/ed6a9d6df9ea426a924df1775293a6b4-pulp.mps -max -timeMode elapsed -branch -printingOptions all -solution /tmp/ed6a9d6df9ea426a924df1775293a6b4-pulp.sol (default strategy 1)\n",
            "At line 2 NAME          MODEL\n",
            "At line 3 ROWS\n",
            "At line 6 COLUMNS\n",
            "At line 11 RHS\n",
            "At line 13 BOUNDS\n",
            "At line 16 ENDATA\n",
            "Problem MODEL has 1 rows, 2 columns and 2 elements\n",
            "Coin0008I MODEL read with 0 errors\n",
            "Option for timeMode changed from cpu to elapsed\n",
            "Presolve 1 (0) rows, 2 (0) columns and 2 (0) elements\n",
            "0  Obj -0 Dual inf 10.5 (2)\n",
            "1  Obj 36\n",
            "Optimal - objective value 36\n",
            "Optimal objective 36 - 1 iterations time 0.002\n",
            "Option for printingOptions changed from normal to all\n",
            "Total time (CPU seconds):       0.00   (Wallclock seconds):       0.00\n",
            "\n",
            "x1 = 2.0\n",
            "x2 = 6.0\n",
            "Optimal value = 36.0\n"
          ]
        }
      ],
      "source": [
        "# Requirements\n",
        "%pip install -q pulp\n",
        "from pulp import LpMaximize, LpProblem, LpVariable, lpSum\n",
        "# Model\n",
        "model = LpProblem(name='small-problem', sense=LpMaximize)\n",
        "# Variables\n",
        "x1 = LpVariable(name='x1', lowBound=0, upBound=4)\n",
        "x2 = LpVariable(name='x2', lowBound=0, upBound=6)\n",
        "# Objective function\n",
        "model += lpSum([3 * x1, 5 * x2])\n",
        "# Constraints\n",
        "model += (3 * x1 + 2 * x2 <= 18, 'water_constraint')\n",
        "# Solve the problem\n",
        "model.solve()\n",
        "# Print results\n",
        "print('x1 =', x1.varValue)\n",
        "print('x2 =', x2.varValue)\n",
        "print('Optimal value =', model.objective.value())\n",
        "# Explanation: This section demonstrates how to solve the optimization problem using PuLP."
      ]
    }
  ],
  "metadata": {
    "colab": {
      "name": "OptimizationExample.ipynb",
      "provenance": []
    },
    "kernelspec": {
      "display_name": "Python 3",
      "name": "python3"
    },
    "language_info": {
      "codemirror_mode": {
        "name": "ipython",
        "version": 3
      },
      "file_extension": ".py",
      "mimetype": "text/x-python",
      "name": "python",
      "nbconvert_exporter": "python",
      "pygments_lexer": "ipython3",
      "version": "3.12.1"
    }
  },
  "nbformat": 4,
  "nbformat_minor": 0
}
