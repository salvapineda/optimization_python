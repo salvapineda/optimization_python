{
 "cells": [
  {
   "cell_type": "markdown",
   "metadata": {
    "colab_type": "text",
    "id": "view-in-github"
   },
   "source": [
    "<a href=\"https://colab.research.google.com/github/salvapineda/notebooks/blob/main/OptimizationExample.ipynb\" target=\"_parent\"><img src=\"https://colab.research.google.com/assets/colab-badge.svg\" alt=\"Open In Colab\"/></a>"
   ]
  },
  {
   "cell_type": "markdown",
   "metadata": {
    "id": "21rXZnamoWlz"
   },
   "source": [
    "# Optimization example\n",
    "\n",
    "We want to maximize the energy production benefits of running 2 generators. The benefit of producing with generator 1 and 2 are 3&euro;/MWh and 5&euro;/MWh, respectively. The maximum capacity of generator 1 and 2 are 4MW and 6MW, respectively. Both generators share the same water cooling system. Generator 1 needs 3 units of water per MW, while generator 2 needs 2 units of water per MW. The maximum units of water available is 18.\n",
    "\n",
    "This optimization model is formulated as follows:\n",
    "\n",
    "$$\n",
    "\\begin{align}\n",
    "\\underset{x_1,x_2}{\\max} \\quad & 3x_1+5x_2 \\\\\n",
    "\\text{s.t.} \\quad & 0 \\leq x_1 \\leq 4\\\\\n",
    "& 0 \\leq x_2 \\leq 6\\\\\n",
    "& 3x_1 + 2x_2 \\leq 18\n",
    "\\end{align}\n",
    "$$\n"
   ]
  },
  {
   "cell_type": "markdown",
   "metadata": {
    "id": "M5FfTrOdOFZA"
   },
   "source": [
    "## PYOMO + GLPK ([link](https://pyomo.readthedocs.io/en/stable/))"
   ]
  },
  {
   "cell_type": "code",
   "execution_count": 1,
   "metadata": {
    "id": "WnX-z9LQNgsa"
   },
   "outputs": [
    {
     "name": "stdout",
     "output_type": "stream",
     "text": [
      "E: Could not open lock file /var/lib/dpkg/lock-frontend - open (13: Permission denied)\r\n",
      "E: Unable to acquire the dpkg frontend lock (/var/lib/dpkg/lock-frontend), are you root?\r\n"
     ]
    },
    {
     "name": "stdout",
     "output_type": "stream",
     "text": [
      "WARNING: Failed to create solver with name '_glpk_shell': Failed to set\n",
      "    executable for solver glpk. File with name=/usr/bin/glpsol either does not\n",
      "    exist or it is not executable. To skip this validation, call\n",
      "    set_executable with validate=False.\n"
     ]
    },
    {
     "ename": "RuntimeError",
     "evalue": "Attempting to use an unavailable solver.\n\nThe SolverFactory was unable to create the solver \"_glpk_shell\"\nand returned an UnknownSolver object.  This error is raised at the point\nwhere the UnknownSolver object was used as if it were valid (by calling\nmethod \"solve\").\n\nThe original solver was created with the following parameters:\n\texecutable: /usr/bin/glpsol\n\ttype: _glpk_shell\n\t_args: ()\n\toptions: {}",
     "output_type": "error",
     "traceback": [
      "\u001b[0;31m---------------------------------------------------------------------------\u001b[0m",
      "\u001b[0;31mRuntimeError\u001b[0m                              Traceback (most recent call last)",
      "Cell \u001b[0;32mIn[1], line 16\u001b[0m\n\u001b[1;32m     14\u001b[0m m\u001b[38;5;241m.\u001b[39mcon \u001b[38;5;241m=\u001b[39m pe\u001b[38;5;241m.\u001b[39mConstraint(expr \u001b[38;5;241m=\u001b[39m \u001b[38;5;241m3\u001b[39m\u001b[38;5;241m*\u001b[39mm\u001b[38;5;241m.\u001b[39mx1 \u001b[38;5;241m+\u001b[39m \u001b[38;5;241m2\u001b[39m\u001b[38;5;241m*\u001b[39mm\u001b[38;5;241m.\u001b[39mx2 \u001b[38;5;241m<\u001b[39m\u001b[38;5;241m=\u001b[39m \u001b[38;5;241m18\u001b[39m)\n\u001b[1;32m     15\u001b[0m \u001b[38;5;66;03m# Solve problem using GLPK solver\u001b[39;00m\n\u001b[0;32m---> 16\u001b[0m \u001b[43mglpk\u001b[49m\u001b[38;5;241;43m.\u001b[39;49m\u001b[43msolve\u001b[49m\u001b[43m(\u001b[49m\u001b[43mm\u001b[49m\u001b[43m)\u001b[49m\u001b[38;5;241m.\u001b[39mwrite()\n\u001b[1;32m     17\u001b[0m \u001b[38;5;66;03m# Print results\u001b[39;00m\n\u001b[1;32m     18\u001b[0m \u001b[38;5;28mprint\u001b[39m(\u001b[38;5;124m'\u001b[39m\u001b[38;5;124mx1 =\u001b[39m\u001b[38;5;124m'\u001b[39m,m\u001b[38;5;241m.\u001b[39mx1\u001b[38;5;241m.\u001b[39mvalue)\n",
      "File \u001b[0;32m~/.local/lib/python3.8/site-packages/pyomo/opt/base/solvers.py:110\u001b[0m, in \u001b[0;36mUnknownSolver.solve\u001b[0;34m(self, *args, **kwds)\u001b[0m\n\u001b[1;32m    108\u001b[0m \u001b[38;5;28;01mdef\u001b[39;00m\u001b[38;5;250m \u001b[39m\u001b[38;5;21msolve\u001b[39m(\u001b[38;5;28mself\u001b[39m, \u001b[38;5;241m*\u001b[39margs, \u001b[38;5;241m*\u001b[39m\u001b[38;5;241m*\u001b[39mkwds):\n\u001b[1;32m    109\u001b[0m \u001b[38;5;250m    \u001b[39m\u001b[38;5;124;03m\"\"\"Perform optimization and return an SolverResults object.\"\"\"\u001b[39;00m\n\u001b[0;32m--> 110\u001b[0m     \u001b[38;5;28;43mself\u001b[39;49m\u001b[38;5;241;43m.\u001b[39;49m\u001b[43m_solver_error\u001b[49m\u001b[43m(\u001b[49m\u001b[38;5;124;43m'\u001b[39;49m\u001b[38;5;124;43msolve\u001b[39;49m\u001b[38;5;124;43m'\u001b[39;49m\u001b[43m)\u001b[49m\n",
      "File \u001b[0;32m~/.local/lib/python3.8/site-packages/pyomo/opt/base/solvers.py:127\u001b[0m, in \u001b[0;36mUnknownSolver._solver_error\u001b[0;34m(self, method_name)\u001b[0m\n\u001b[1;32m    126\u001b[0m     \u001b[38;5;28;01mdef\u001b[39;00m\u001b[38;5;250m \u001b[39m\u001b[38;5;21m_solver_error\u001b[39m(\u001b[38;5;28mself\u001b[39m, method_name):\n\u001b[0;32m--> 127\u001b[0m         \u001b[38;5;28;01mraise\u001b[39;00m \u001b[38;5;167;01mRuntimeError\u001b[39;00m(\u001b[38;5;124m\"\"\"\u001b[39m\u001b[38;5;124mAttempting to use an unavailable solver.\u001b[39m\n\u001b[1;32m    128\u001b[0m \n\u001b[1;32m    129\u001b[0m \u001b[38;5;124mThe SolverFactory was unable to create the solver \u001b[39m\u001b[38;5;124m\"\u001b[39m\u001b[38;5;132;01m%s\u001b[39;00m\u001b[38;5;124m\"\u001b[39m\n\u001b[1;32m    130\u001b[0m \u001b[38;5;124mand returned an UnknownSolver object.  This error is raised at the point\u001b[39m\n\u001b[1;32m    131\u001b[0m \u001b[38;5;124mwhere the UnknownSolver object was used as if it were valid (by calling\u001b[39m\n\u001b[1;32m    132\u001b[0m \u001b[38;5;124mmethod \u001b[39m\u001b[38;5;124m\"\u001b[39m\u001b[38;5;132;01m%s\u001b[39;00m\u001b[38;5;124m\"\u001b[39m\u001b[38;5;124m).\u001b[39m\n\u001b[1;32m    133\u001b[0m \n\u001b[1;32m    134\u001b[0m \u001b[38;5;124mThe original solver was created with the following parameters:\u001b[39m\n\u001b[1;32m    135\u001b[0m \u001b[38;5;130;01m\\t\u001b[39;00m\u001b[38;5;124m\"\"\"\u001b[39m \u001b[38;5;241m%\u001b[39m ( \u001b[38;5;28mself\u001b[39m\u001b[38;5;241m.\u001b[39mtype, method_name )\n\u001b[1;32m    136\u001b[0m \u001b[38;5;241m+\u001b[39m \u001b[38;5;124m\"\u001b[39m\u001b[38;5;130;01m\\n\u001b[39;00m\u001b[38;5;130;01m\\t\u001b[39;00m\u001b[38;5;124m\"\u001b[39m\u001b[38;5;241m.\u001b[39mjoin(\u001b[38;5;124m\"\u001b[39m\u001b[38;5;132;01m%s\u001b[39;00m\u001b[38;5;124m: \u001b[39m\u001b[38;5;132;01m%s\u001b[39;00m\u001b[38;5;124m\"\u001b[39m \u001b[38;5;241m%\u001b[39m i \u001b[38;5;28;01mfor\u001b[39;00m i \u001b[38;5;129;01min\u001b[39;00m \u001b[38;5;28msorted\u001b[39m(\u001b[38;5;28mself\u001b[39m\u001b[38;5;241m.\u001b[39m_kwds\u001b[38;5;241m.\u001b[39mitems()))\n\u001b[1;32m    137\u001b[0m \u001b[38;5;241m+\u001b[39m \u001b[38;5;124m\"\u001b[39m\u001b[38;5;130;01m\\n\u001b[39;00m\u001b[38;5;130;01m\\t\u001b[39;00m\u001b[38;5;124m_args: \u001b[39m\u001b[38;5;132;01m%s\u001b[39;00m\u001b[38;5;124m\"\u001b[39m \u001b[38;5;241m%\u001b[39m ( \u001b[38;5;28mself\u001b[39m\u001b[38;5;241m.\u001b[39m_args, )\n\u001b[1;32m    138\u001b[0m \u001b[38;5;241m+\u001b[39m \u001b[38;5;124m\"\u001b[39m\u001b[38;5;130;01m\\n\u001b[39;00m\u001b[38;5;130;01m\\t\u001b[39;00m\u001b[38;5;124moptions: \u001b[39m\u001b[38;5;132;01m%s\u001b[39;00m\u001b[38;5;124m\"\u001b[39m \u001b[38;5;241m%\u001b[39m ( \u001b[38;5;28mself\u001b[39m\u001b[38;5;241m.\u001b[39moptions, ) )\n",
      "\u001b[0;31mRuntimeError\u001b[0m: Attempting to use an unavailable solver.\n\nThe SolverFactory was unable to create the solver \"_glpk_shell\"\nand returned an UnknownSolver object.  This error is raised at the point\nwhere the UnknownSolver object was used as if it were valid (by calling\nmethod \"solve\").\n\nThe original solver was created with the following parameters:\n\texecutable: /usr/bin/glpsol\n\ttype: _glpk_shell\n\t_args: ()\n\toptions: {}"
     ]
    }
   ],
   "source": [
    "# Requirements\n",
    "!pip install -q pyomo\n",
    "import pyomo.environ as pe\n",
    "!apt-get install -y -qq glpk-utils\n",
    "glpk = pe.SolverFactory('glpk', executable='/usr/bin/glpsol')\n",
    "# Model\n",
    "m = pe.ConcreteModel()\n",
    "# Variables\n",
    "m.x1 = pe.Var(within=pe.NonNegativeReals,bounds=(0,4))\n",
    "m.x2 = pe.Var(within=pe.NonNegativeReals,bounds=(0,6))\n",
    "# Objective function\n",
    "m.obj = pe.Objective(expr = 3*m.x1 + 5*m.x2,sense=pe.maximize)\n",
    "# Constraints\n",
    "m.con = pe.Constraint(expr = 3*m.x1 + 2*m.x2 <= 18)\n",
    "# Solve problem using GLPK solver\n",
    "glpk.solve(m).write()\n",
    "# Print results\n",
    "print('x1 =',m.x1.value)\n",
    "print('x2 =',m.x2.value)\n",
    "print('Optimal value =',m.obj())"
   ]
  },
  {
   "cell_type": "markdown",
   "metadata": {
    "id": "AFJ6XFZkOj4v"
   },
   "source": [
    "## GUROBIPY ([link](https://pypi.org/project/gurobipy/))"
   ]
  },
  {
   "cell_type": "code",
   "execution_count": null,
   "metadata": {
    "id": "fQBTIQAaOufI"
   },
   "outputs": [],
   "source": [
    "# Requirements\n",
    "!pip install -q gurobipy\n",
    "import gurobipy as gp\n",
    "from gurobipy import GRB\n",
    "# Model\n",
    "m = gp.Model()\n",
    "# Variables\n",
    "x1 = m.addVar(vtype=GRB.CONTINUOUS,lb=0,ub=4)\n",
    "x2 = m.addVar(vtype=GRB.CONTINUOUS,lb=0,ub=6)\n",
    "# Objective function\n",
    "m.setObjective(3*x1 + 5*x2, GRB.MAXIMIZE)\n",
    "# Constraints\n",
    "m.addConstr(3*x1 + 2*x2 <= 18)\n",
    "# Solve problem using GLPK solver\n",
    "m.optimize()\n",
    "# Print results\n",
    "print('x1 =',x1.X)\n",
    "print('x2 =',x2.X)\n",
    "print('Optimal value =',m.ObjVal)"
   ]
  }
 ],
 "metadata": {
  "colab": {
   "authorship_tag": "ABX9TyM8OZl3T9FyBnc8AOjDyw2i",
   "include_colab_link": true,
   "name": "OptimizationExample.ipynb",
   "provenance": []
  },
  "kernelspec": {
   "display_name": "Python 3",
   "name": "python3"
  },
  "language_info": {
   "codemirror_mode": {
    "name": "ipython",
    "version": 3
   },
   "file_extension": ".py",
   "mimetype": "text/x-python",
   "name": "python",
   "nbconvert_exporter": "python",
   "pygments_lexer": "ipython3",
   "version": "3.8.10"
  }
 },
 "nbformat": 4,
 "nbformat_minor": 0
}