{
  "cells": [
    {
      "cell_type": "markdown",
      "metadata": {
        "colab_type": "text",
        "id": "view-in-github"
      },
      "source": [
        "<a href=\"https://colab.research.google.com/github/salvapineda/optimization_python/blob/main/optimization_example.ipynb\" target=\"_parent\"><img src=\"https://colab.research.google.com/assets/colab-badge.svg\" alt=\"Open In Colab\"/></a>"
      ]
    },
    {
      "cell_type": "markdown",
      "metadata": {
        "id": "21rXZnamoWlz"
      },
      "source": [
        "# Optimization example\n",
        "\n",
        "We want to maximize the energy production benefits of running 2 generators. The benefit of producing with generator 1 and 2 are 3&euro;/MWh and 5&euro;/MWh, respectively. The maximum capacity of generator 1 and 2 are 4MW and 6MW, respectively. Both generators share the same water cooling system. Generator 1 needs 3 units of water per MW, while generator 2 needs 2 units of water per MW. The maximum units of water available is 18.\n",
        "\n",
        "This optimization model is formulated as follows:\n",
        "\n",
        "$$\n",
        "\\begin{align}\n",
        "\\underset{x_1,x_2}{\\max} \\quad & 3x_1+5x_2 \\\\\n",
        "\\text{s.t.} \\quad & 0 \\leq x_1 \\leq 4\\\\\n",
        "& 0 \\leq x_2 \\leq 6\\\\\n",
        "& 3x_1 + 2x_2 \\leq 18\n",
        "\\end{align}\n",
        "$$\n"
      ]
    },
    {
      "cell_type": "markdown",
      "metadata": {
        "id": "pulp-solution"
      },
      "source": [
        "## PULP ([link](https://coin-or.github.io/pulp/))\n",
        "\n",
        "PuLP is a user-friendly library for linear programming. It is easy to learn and integrates well with other Python libraries."
      ]
    },
    {
      "cell_type": "code",
      "execution_count": null,
      "metadata": {
        "id": "pulp-code"
      },
      "outputs": [],
      "source": [
        "# Requirements\n",
        "%pip install -q pulp\n",
        "from pulp import LpMaximize, LpProblem, LpVariable, lpSum\n",
        "# Model\n",
        "model = LpProblem(name='small-problem', sense=LpMaximize)\n",
        "# Variables\n",
        "x1 = LpVariable(name='x1', lowBound=0, upBound=4)\n",
        "x2 = LpVariable(name='x2', lowBound=0, upBound=6)\n",
        "# Objective function\n",
        "model += lpSum([3 * x1, 5 * x2])\n",
        "# Constraints\n",
        "model += (3 * x1 + 2 * x2 <= 18, 'water_constraint')\n",
        "# Solve the problem\n",
        "model.solve()\n",
        "# Print results\n",
        "print('x1 =', x1.varValue)\n",
        "print('x2 =', x2.varValue)\n",
        "print('Optimal value =', model.objective.value())\n",
        "# Explanation: This section demonstrates how to solve the optimization problem using PuLP."
      ]
    },
    {
      "cell_type": "markdown",
      "metadata": {
        "id": "scipy-solution"
      },
      "source": [
        "## SCIPY ([link](https://docs.scipy.org/doc/scipy/reference/generated/scipy.optimize.linprog.html))\n",
        "\n",
        "Scipy is a general-purpose library for scientific computing. It includes a simple linear programming solver that is easy to use for small to medium-sized problems."
      ]
    },
    {
      "cell_type": "code",
      "execution_count": null,
      "metadata": {
        "id": "scipy-code"
      },
      "outputs": [],
      "source": [
        "# Requirements\n",
        "%pip install -q scipy\n",
        "from scipy.optimize import linprog\n",
        "# Coefficients of the objective function\n",
        "c = [-3, -5]  # Note: linprog does minimization by default\n",
        "# Coefficients of the inequality constraints\n",
        "A = [[3, 2]]\n",
        "# Right-hand side of the inequality constraints\n",
        "b = [18]\n",
        "# Bounds for the variables\n",
        "x0_bounds = (0, 4)\n",
        "x1_bounds = (0, 6)\n",
        "# Solve the problem\n",
        "res = linprog(c, A_ub=A, b_ub=b, bounds=[x0_bounds, x1_bounds], method='highs')\n",
        "# Print results\n",
        "print('x1 =', res.x[0])\n",
        "print('x2 =', res.x[1])\n",
        "print('Optimal value =', -res.fun)  # Negate because we minimized\n",
        "# Explanation: This section demonstrates how to solve the optimization problem using Scipy."
      ]
    },
    {
      "cell_type": "markdown",
      "metadata": {
        "id": "M5FfTrOdOFZA"
      },
      "source": [
        "## PYOMO + GLPK ([link](https://pyomo.readthedocs.io/en/stable/))\n",
        "\n",
        "Pyomo is a versatile library that can handle a wide range of optimization problems. It is particularly useful for complex models and supports various solvers."
      ]
    },
    {
      "cell_type": "code",
      "execution_count": null,
      "metadata": {
        "id": "WnX-z9LQNgsa"
      },
      "outputs": [],
      "source": [
        "# Requirements\n",
        "%pip install -q pyomo\n",
        "import pyomo.environ as pe\n",
        "%pip install -q glpk-utils\n",
        "glpk = pe.SolverFactory('glpk', executable='/usr/bin/glpsol')\n",
        "# Model\n",
        "m = pe.ConcreteModel()\n",
        "# Variables\n",
        "m.x1 = pe.Var(within=pe.NonNegativeReals,bounds=(0,4))\n",
        "m.x2 = pe.Var(within=pe.NonNegativeReals,bounds=(0,6))\n",
        "# Objective function\n",
        "m.obj = pe.Objective(expr = 3*m.x1 + 5*m.x2,sense=pe.maximize)\n",
        "# Constraints\n",
        "m.con = pe.Constraint(expr = 3*m.x1 + 2*m.x2 <= 18)\n",
        "# Solve problem using GLPK solver\n",
        "glpk.solve(m).write()\n",
        "# Print results\n",
        "print('x1 =',m.x1.value)\n",
        "print('x2 =',m.x2.value)\n",
        "print('Optimal value =',m.obj())\n",
        "# Explanation: This section demonstrates how to solve the optimization problem using Pyomo and GLPK."
      ]
    },
    {
      "cell_type": "markdown",
      "metadata": {
        "id": "AFJ6XFZkOj4v"
      },
      "source": [
        "## GUROBIPY ([link](https://pypi.org/project/gurobipy/))\n",
        "\n",
        "Gurobi is a powerful commercial solver known for its performance. It is widely used in industry for large-scale optimization problems."
      ]
    },
    {
      "cell_type": "code",
      "execution_count": null,
      "metadata": {
        "id": "fQBTIQAaOufI"
      },
      "outputs": [],
      "source": [
        "# Requirements\n",
        "%pip install -q gurobipy\n",
        "import gurobipy as gp\n",
        "from gurobipy import GRB\n",
        "# Model\n",
        "m = gp.Model()\n",
        "# Variables\n",
        "x1 = m.addVar(vtype=GRB.CONTINUOUS,lb=0,ub=4)\n",
        "x2 = m.addVar(vtype=GRB.CONTINUOUS,lb=0,ub=6)\n",
        "# Objective function\n",
        "m.setObjective(3*x1 + 5*x2, GRB.MAXIMIZE)\n",
        "# Constraints\n",
        "m.addConstr(3*x1 + 2*x2 <= 18)\n",
        "# Solve problem using GLPK solver\n",
        "m.optimize()\n",
        "# Print results\n",
        "print('x1 =',x1.X)\n",
        "print('x2 =',x2.X)\n",
        "print('Optimal value =',m.ObjVal)\n",
        "# Explanation: This section demonstrates how to solve the optimization problem using Gurobi."
      ]
    }
  ],
  "metadata": {
    "colab": {
      "authorship_tag": "ABX9TyM8OZl3T9FyBnc8AOjDyw2i",
      "include_colab_link": true,
      "name": "OptimizationExample.ipynb",
      "provenance": []
    },
    "kernelspec": {
      "display_name": "Python 3",
      "name": "python3"
    }
  },
  "nbformat": 4,
  "nbformat_minor": 0
}
