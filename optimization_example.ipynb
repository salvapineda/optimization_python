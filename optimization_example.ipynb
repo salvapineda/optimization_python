{
  "cells": [
    {
      "cell_type": "markdown",
      "metadata": {
        "id": "21rXZnamoWlz"
      },
      "source": [
        "# Optimization example\n",
        "\n",
        "We want to maximize the energy production benefits of running 2 generators. The benefit of producing with generator 1 and 2 are 3&euro;/MWh and 5&euro;/MWh, respectively. The maximum capacity of generator 1 and 2 are 4MW and 6MW, respectively. Both generators share the same water cooling system. Generator 1 needs 3 units of water per MW, while generator 2 needs 2 units of water per MW. The maximum units of water available is 18.\n",
        "\n",
        "This optimization model is formulated as follows:\n",
        "\n",
        "$$\n",
        "\\begin{align}\n",
        "\\underset{x_1,x_2}{\\max} \\quad & 3x_1+5x_2 \\\\\n",
        "\\text{s.t.} \\quad & 0 \\leq x_1 \\leq 4\\\\\n",
        "& 0 \\leq x_2 \\leq 6\\\\\n",
        "& 3x_1 + 2x_2 \\leq 18\n",
        "\\end{align}\n",
        "$$\n"
      ]
    },
    {
      "cell_type": "markdown",
        "We want to maximize the energy production benefits of running 2 generators. The benefit of producing with generator 1 and 2 are 3&euro;/MWh and 5&euro;/MWh, respectively. The maximum capacity of generator 1 and 2 are 4MW and 6MW, respectively. Both generators share the same water cooling system. Generator 1 needs 3 units of water per MW, while generator 2 needs 2 units of water per MW. The maximum units of water available is 18.\n",
        "\n",
        "This optimization model is formulated as follows:\n",
        "\n",
        "$$\n",
        "\\begin{align}\n",
        "\\underset{x_1,x_2}{\\max} \\quad & 3x_1+5x_2 \\\\\n",
        "\\text{s.t.} \\quad & 0 \\leq x_1 \\leq 4\\\\\n",
        "& 0 \\leq x_2 \\leq 6\\\\\n",
        "& 3x_1 + 2x_2 \\leq 18\n",
        "\\end{align}\n",
        "$$\n"
      ]
    },
    {
      "cell_type": "markdown",
      "metadata": {
        "id": "2ZNfoGHRp4I4"
      },
      "source": [
        "## Requirements"
      ]
    },
    {
      "cell_type": "code",
      "execution_count": 1,
      "metadata": {
        "id": "QyfnPoSvp8yY"
      },
      "outputs": [],
      "source": [
        "# Install necessary packages\n",
        "%pip install -q gurobipy pulp scipy pyomo\n",
        "!apt-get install -y -qq glpk-utils\n",
        "import gurobipy as gp\n",
        "from gurobipy import GRB\n",
            "    self.set_executable(name=executable, validate=validate)\n",
            "  File \"/home/codespace/.python/current/lib/python3.12/site-packages/pyomo/opt/solver/shellcmd.py\", line 115, in set_executable\n",
            "    raise ValueError(\n",
            "ValueError: Failed to set executable for solver glpk. File with name=/usr/bin/glpsol either does not exist or it is not executable. To skip this validation, call set_executable with validate=False.\n"
          ]
        }
      ],
      "source": [
        "# Gurobipy\n",
        "!pip install -q gurobipy\n",
        "import gurobipy as gp\n",
        "from gurobipy import GRB\n",
        "# Pulp\n",
        "!pip install -q pulp\n",
        "from pulp import LpMaximize, LpProblem, LpVariable, lpSum\n",
        "# Scipy\n",
        "!pip install -q scipy\n",
        "from scipy.optimize import linprog\n",
        "# Pyomo + glkp\n",
        "!apt-get install -y -qq glpk-utils\n",
        "!pip install -q pyomo\n",
        "import pyomo.environ as pe\n",
        "glpk = pe.SolverFactory('glpk', executable='/usr/bin/glpsol')"
      ]
    },
    {
      "cell_type": "markdown",
      "metadata": {
        "id": "pulp-solution"
      },
      "source": [
        "## PULP ([link](https://coin-or.github.io/pulp/))\n",
        "\n",
        "PuLP is a user-friendly library for linear programming. It is easy to learn and integrates well with other Python libraries."
      ]
    },
    {
      "cell_type": "code",
      "execution_count": 2,
      "metadata": {
        "id": "pulp-code"
      },
      "outputs": [
        {
          "name": "stdout",
          "output_type": "stream",
          "text": [
            "Welcome to the CBC MILP Solver \n",
            "Version: 2.10.3 \n",
            "Build Date: Dec 15 2019 \n",
            "\n",
            "command line - /home/codespace/.python/current/lib/python3.12/site-packages/pulp/solverdir/cbc/linux/64/cbc /tmp/f353fa7cefaf430c9529f36eb265b7af-pulp.mps -max -timeMode elapsed -branch -printingOptions all -solution /tmp/f353fa7cefaf430c9529f36eb265b7af-pulp.sol (default strategy 1)\n",
            "At line 2 NAME          MODEL\n",
            "At line 3 ROWS\n",
            "At line 6 COLUMNS\n",
            "At line 11 RHS\n",
            "At line 13 BOUNDS\n",
            "At line 16 ENDATA\n",
            "Problem MODEL has 1 rows, 2 columns and 2 elements\n",
            "Coin0008I MODEL read with 0 errors\n",
            "Option for timeMode changed from cpu to elapsed\n",
            "Presolve 1 (0) rows, 2 (0) columns and 2 (0) elements\n",
            "0  Obj -0 Dual inf 10.5 (2)\n",
            "1  Obj 36\n",
            "Optimal - objective value 36\n",
            "Optimal objective 36 - 1 iterations time 0.002\n",
            "Option for printingOptions changed from normal to all\n",
            "Total time (CPU seconds):       0.00   (Wallclock seconds):       0.00\n",
            "\n",
            "x1 = 2.0\n",
            "x2 = 6.0\n",
            "Optimal value = 36.0\n"
          ]
        }
      ],
      "source": [
        "# Model\n",
        "model = LpProblem(name='small-problem', sense=LpMaximize)\n",
        "# Variables\n",
        "x1 = LpVariable(name='x1', lowBound=0, upBound=4)\n",
        "x2 = LpVariable(name='x2', lowBound=0, upBound=6)\n",
        "# Objective function\n",
        "model += lpSum([3 * x1, 5 * x2])\n",
        "# Constraints\n",
        "model += (3 * x1 + 2 * x2 <= 18, 'water_constraint')\n",
        "# Solve the problem\n",
        "model.solve()\n",
        "# Print results\n",
        "print('x1 =', x1.varValue)\n",
        "print('x2 =', x2.varValue)\n",
        "print('Optimal value =', model.objective.value())\n",
        "# Explanation: This section demonstrates how to solve the optimization problem using PuLP."
      ]
    },
    {
      "cell_type": "markdown",
      "metadata": {
        "id": "scipy-solution"
      },
      "source": [
        "## SCIPY ([link](https://docs.scipy.org/doc/scipy/reference/generated/scipy.optimize.linprog.html))\n",
        "\n",
        "Scipy is a general-purpose library for scientific computing. It includes a simple linear programming solver that is easy to use for small to medium-sized problems."
      ]
    },
    {
      "cell_type": "code",
      "execution_count": 3,
      "metadata": {
        "id": "scipy-code"
      },
      "outputs": [
        {
          "name": "stdout",
          "output_type": "stream",
          "text": [
            "x1 = 2.0\n",
            "x2 = 6.0\n",
            "Optimal value = 36.0\n"
          ]
        }
      ],
      "source": [
        "# Coefficients of the objective function\n",
        "c = [-3, -5]  # Note: linprog does minimization by default\n",
        "# Coefficients of the inequality constraints\n",
        "A = [[3, 2]]\n",
        "# Right-hand side of the inequality constraints\n",
        "b = [18]\n",
        "# Bounds for the variables\n",
        "x0_bounds = (0, 4)\n",
        "x1_bounds = (0, 6)\n",
        "# Solve the problem\n",
        "res = linprog(c, A_ub=A, b_ub=b, bounds=[x0_bounds, x1_bounds], method='highs')\n",
        "# Print results\n",
        "print('x1 =', res.x[0])\n",
        "print('x2 =', res.x[1])\n",
        "print('Optimal value =', -res.fun)  # Negate because we minimized\n",
        "# Explanation: This section demonstrates how to solve the optimization problem using Scipy."
      ]
    },
    {
      "cell_type": "markdown",
      "metadata": {
        "id": "M5FfTrOdOFZA"
      },
      "source": [
        "## PYOMO + GLPK ([link](https://pyomo.readthedocs.io/en/stable/))\n",
        "\n",
        "Pyomo is a versatile library that can handle a wide range of optimization problems. It is particularly useful for complex models and supports various solvers."
      ]
    },
    {
      "cell_type": "code",
      "execution_count": 4,
      "metadata": {
        "id": "WnX-z9LQNgsa"
      },
      "outputs": [
        {
          "ename": "RuntimeError",
          "evalue": "Attempting to use an unavailable solver.\n\nThe SolverFactory was unable to create the solver \"_glpk_shell\"\nand returned an UnknownSolver object.  This error is raised at the point\nwhere the UnknownSolver object was used as if it were valid (by calling\nmethod \"solve\").\n\nThe original solver was created with the following parameters:\n\texecutable: /usr/bin/glpsol\n\ttype: _glpk_shell\n\t_args: ()\n\toptions: {}",
          "output_type": "error",
          "traceback": [
            "\u001b[0;31m---------------------------------------------------------------------------\u001b[0m",
            "\u001b[0;31mRuntimeError\u001b[0m                              Traceback (most recent call last)",
            "Cell \u001b[0;32mIn[4], line 11\u001b[0m\n\u001b[1;32m      9\u001b[0m m\u001b[38;5;241m.\u001b[39mcon \u001b[38;5;241m=\u001b[39m pe\u001b[38;5;241m.\u001b[39mConstraint(expr \u001b[38;5;241m=\u001b[39m \u001b[38;5;241m3\u001b[39m\u001b[38;5;241m*\u001b[39mm\u001b[38;5;241m.\u001b[39mx1 \u001b[38;5;241m+\u001b[39m \u001b[38;5;241m2\u001b[39m\u001b[38;5;241m*\u001b[39mm\u001b[38;5;241m.\u001b[39mx2 \u001b[38;5;241m<\u001b[39m\u001b[38;5;241m=\u001b[39m \u001b[38;5;241m18\u001b[39m)\n\u001b[1;32m     10\u001b[0m \u001b[38;5;66;03m# Solve problem using GLPK solver\u001b[39;00m\n\u001b[0;32m---> 11\u001b[0m \u001b[43mglpk\u001b[49m\u001b[38;5;241;43m.\u001b[39;49m\u001b[43msolve\u001b[49m\u001b[43m(\u001b[49m\u001b[43mm\u001b[49m\u001b[43m)\u001b[49m\u001b[38;5;241m.\u001b[39mwrite()\n\u001b[1;32m     12\u001b[0m \u001b[38;5;66;03m# Print results\u001b[39;00m\n\u001b[1;32m     13\u001b[0m \u001b[38;5;28mprint\u001b[39m(\u001b[38;5;124m'\u001b[39m\u001b[38;5;124mx1 =\u001b[39m\u001b[38;5;124m'\u001b[39m,m\u001b[38;5;241m.\u001b[39mx1\u001b[38;5;241m.\u001b[39mvalue)\n",
            "File \u001b[0;32m~/.python/current/lib/python3.12/site-packages/pyomo/opt/base/solvers.py:99\u001b[0m, in \u001b[0;36mUnknownSolver.solve\u001b[0;34m(self, *args, **kwds)\u001b[0m\n\u001b[1;32m     97\u001b[0m \u001b[38;5;28;01mdef\u001b[39;00m \u001b[38;5;21msolve\u001b[39m(\u001b[38;5;28mself\u001b[39m, \u001b[38;5;241m*\u001b[39margs, \u001b[38;5;241m*\u001b[39m\u001b[38;5;241m*\u001b[39mkwds):\n\u001b[1;32m     98\u001b[0m \u001b[38;5;250m    \u001b[39m\u001b[38;5;124;03m\"\"\"Perform optimization and return an SolverResults object.\"\"\"\u001b[39;00m\n\u001b[0;32m---> 99\u001b[0m     \u001b[38;5;28;43mself\u001b[39;49m\u001b[38;5;241;43m.\u001b[39;49m\u001b[43m_solver_error\u001b[49m\u001b[43m(\u001b[49m\u001b[38;5;124;43m'\u001b[39;49m\u001b[38;5;124;43msolve\u001b[39;49m\u001b[38;5;124;43m'\u001b[39;49m\u001b[43m)\u001b[49m\n",
            "File \u001b[0;32m~/.python/current/lib/python3.12/site-packages/pyomo/opt/base/solvers.py:116\u001b[0m, in \u001b[0;36mUnknownSolver._solver_error\u001b[0;34m(self, method_name)\u001b[0m\n\u001b[1;32m    115\u001b[0m     \u001b[38;5;28;01mdef\u001b[39;00m \u001b[38;5;21m_solver_error\u001b[39m(\u001b[38;5;28mself\u001b[39m, method_name):\n\u001b[0;32m--> 116\u001b[0m         \u001b[38;5;28;01mraise\u001b[39;00m \u001b[38;5;167;01mRuntimeError\u001b[39;00m(\n\u001b[1;32m    117\u001b[0m \u001b[38;5;250m            \u001b[39m\u001b[38;5;124;03m\"\"\"Attempting to use an unavailable solver.\u001b[39;00m\n\u001b[1;32m    118\u001b[0m \n\u001b[1;32m    119\u001b[0m \u001b[38;5;124;03mThe SolverFactory was unable to create the solver \"%s\"\u001b[39;00m\n\u001b[1;32m    120\u001b[0m \u001b[38;5;124;03mand returned an UnknownSolver object.  This error is raised at the point\u001b[39;00m\n\u001b[1;32m    121\u001b[0m \u001b[38;5;124;03mwhere the UnknownSolver object was used as if it were valid (by calling\u001b[39;00m\n\u001b[1;32m    122\u001b[0m \u001b[38;5;124;03mmethod \"%s\").\u001b[39;00m\n\u001b[1;32m    123\u001b[0m \n\u001b[1;32m    124\u001b[0m \u001b[38;5;124;03mThe original solver was created with the following parameters:\u001b[39;00m\n\u001b[1;32m    125\u001b[0m \u001b[38;5;124;03m\\t\"\"\"\u001b[39;00m\n\u001b[1;32m    126\u001b[0m             \u001b[38;5;241m%\u001b[39m (\u001b[38;5;28mself\u001b[39m\u001b[38;5;241m.\u001b[39mtype, method_name)\n\u001b[1;32m    127\u001b[0m             \u001b[38;5;241m+\u001b[39m \u001b[38;5;124m\"\u001b[39m\u001b[38;5;130;01m\\n\u001b[39;00m\u001b[38;5;130;01m\\t\u001b[39;00m\u001b[38;5;124m\"\u001b[39m\u001b[38;5;241m.\u001b[39mjoin(\u001b[38;5;124m\"\u001b[39m\u001b[38;5;132;01m%s\u001b[39;00m\u001b[38;5;124m: \u001b[39m\u001b[38;5;132;01m%s\u001b[39;00m\u001b[38;5;124m\"\u001b[39m \u001b[38;5;241m%\u001b[39m i \u001b[38;5;28;01mfor\u001b[39;00m i \u001b[38;5;129;01min\u001b[39;00m \u001b[38;5;28msorted\u001b[39m(\u001b[38;5;28mself\u001b[39m\u001b[38;5;241m.\u001b[39m_kwds\u001b[38;5;241m.\u001b[39mitems()))\n\u001b[1;32m    128\u001b[0m             \u001b[38;5;241m+\u001b[39m \u001b[38;5;124m\"\u001b[39m\u001b[38;5;130;01m\\n\u001b[39;00m\u001b[38;5;130;01m\\t\u001b[39;00m\u001b[38;5;124m_args: \u001b[39m\u001b[38;5;132;01m%s\u001b[39;00m\u001b[38;5;124m\"\u001b[39m \u001b[38;5;241m%\u001b[39m (\u001b[38;5;28mself\u001b[39m\u001b[38;5;241m.\u001b[39m_args,)\n\u001b[1;32m    129\u001b[0m             \u001b[38;5;241m+\u001b[39m \u001b[38;5;124m\"\u001b[39m\u001b[38;5;130;01m\\n\u001b[39;00m\u001b[38;5;130;01m\\t\u001b[39;00m\u001b[38;5;124moptions: \u001b[39m\u001b[38;5;132;01m%s\u001b[39;00m\u001b[38;5;124m\"\u001b[39m \u001b[38;5;241m%\u001b[39m (\u001b[38;5;28mself\u001b[39m\u001b[38;5;241m.\u001b[39moptions,)\n\u001b[1;32m    130\u001b[0m         )\n",
            "\u001b[0;31mRuntimeError\u001b[0m: Attempting to use an unavailable solver.\n\nThe SolverFactory was unable to create the solver \"_glpk_shell\"\nand returned an UnknownSolver object.  This error is raised at the point\nwhere the UnknownSolver object was used as if it were valid (by calling\nmethod \"solve\").\n\nThe original solver was created with the following parameters:\n\texecutable: /usr/bin/glpsol\n\ttype: _glpk_shell\n\t_args: ()\n\toptions: {}"
          ]
        }
      ],
      "source": [
        "# Model\n",
        "m = pe.ConcreteModel()\n",
        "# Variables\n",
        "m.x1 = pe.Var(within=pe.NonNegativeReals,bounds=(0,4))\n",
        "m.x2 = pe.Var(within=pe.NonNegativeReals,bounds=(0,6))\n",
        "# Objective function\n",
        "m.obj = pe.Objective(expr = 3*m.x1 + 5*m.x2,sense=pe.maximize)\n",
        "# Constraints\n",
        "m.con = pe.Constraint(expr = 3*m.x1 + 2*m.x2 <= 18)\n",
        "# Solve problem using GLPK solver\n",
        "glpk.solve(m).write()\n",
        "# Print results\n",
        "print('x1 =',m.x1.value)\n",
        "print('x2 =',m.x2.value)\n",
        "print('Optimal value =',m.obj())\n",
        "# Explanation: This section demonstrates how to solve the optimization problem using Pyomo and GLPK."
      ]
    },
    {
      "cell_type": "markdown",
      "metadata": {
        "id": "AFJ6XFZkOj4v"
      },
      "source": [
        "## GUROBIPY ([link](https://pypi.org/project/gurobipy/))\n",
        "\n",
        "Gurobi is a powerful commercial solver known for its performance. It is widely used in industry for large-scale optimization problems."
      ]
    },
    {
      "cell_type": "code",
      "execution_count": null,
      "metadata": {
        "id": "fQBTIQAaOufI"
      },
      "outputs": [],
      "source": [
        "# Model\n",
        "m = gp.Model()\n",
        "# Variables\n",
        "x1 = m.addVar(vtype=GRB.CONTINUOUS,lb=0,ub=4)\n",
        "x2 = m.addVar(vtype=GRB.CONTINUOUS,lb=0,ub=6)\n",
        "# Objective function\n",
        "m.setObjective(3*x1 + 5*x2, GRB.MAXIMIZE)\n",
        "# Constraints\n",
        "m.addConstr(3*x1 + 2*x2 <= 18)\n",
        "# Solve problem using GLPK solver\n",
        "m.optimize()\n",
        "# Print results\n",
        "print('x1 =',x1.X)\n",
        "print('x2 =',x2.X)\n",
        "print('Optimal value =',m.ObjVal)\n",
        "# Explanation: This section demonstrates how to solve the optimization problem using Gurobi."
      ]
    }
  ],
  "metadata": {
    "colab": {
      "name": "OptimizationExample.ipynb",
      "provenance": []
    },
    "kernelspec": {
      "display_name": "Python 3",
      "name": "python3"
    },
    "language_info": {
      "codemirror_mode": {
        "name": "ipython",
        "version": 3
      },
      "file_extension": ".py",
      "mimetype": "text/x-python",
      "name": "python",
      "nbconvert_exporter": "python",
      "pygments_lexer": "ipython3",
      "version": "3.12.1"
    }
  },
  "nbformat": 4,
  "nbformat_minor": 0
}
